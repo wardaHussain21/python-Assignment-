{
 "cells": [
  {
   "cell_type": "code",
   "execution_count": 20,
   "metadata": {},
   "outputs": [
    {
     "name": "stdout",
     "output_type": "stream",
     "text": [
      "Enter Name: warda\n",
      "Enter Roll: 34\n",
      "Enter your no of subjects 3\n",
      "Subject 1: 87\n",
      "Subject 2: 78\n",
      "Subject 3: 67\n",
      "Total  232\n",
      "Percentage  77.33333333333333\n",
      "Grade F\n"
     ]
    }
   ],
   "source": [
    "Name = input(\"Enter Name: \")\n",
    "roll_no = int(input(\"Enter Roll: \"))\n",
    "Subjects = int(input(\"Enter your no of subjects \"))\n",
    "Sub_marks = []\n",
    "total = 0\n",
    "grade = \"\"\n",
    "percentage = 0\n",
    "for i in range(Subjects):\n",
    "    a = int(input(\"Subject \"+str(i+1)+\": \" ))\n",
    "    Sub_marks.append(a)\n",
    "\n",
    "\n",
    "for x in Sub_marks:\n",
    "            total += x\n",
    "print(\"Total \", total)\n",
    "\n",
    "percentage = (total/Subjects) \n",
    "\n",
    "if total >= 80 and total == 100:\n",
    "            grade=\"A+\"\n",
    "elif total >=70  and total == 79:\n",
    "            grade=\"A\"\n",
    "elif total >=60  and total == 69:\n",
    "            grade=\"B\"\n",
    "elif total >=50  and total == 59:\n",
    "            grade=\"C\"\n",
    "elif total >=40  and total == 49:\n",
    "            grade=\"D\"\n",
    "elif total >=33  and total == 39:\n",
    "            grade=\"E\"\n",
    "else:\n",
    "            grade=\"F\"\n",
    "print(\"Percentage \",percentage)\n",
    "print(\"Grade\",grade)"
   ]
  },
  {
   "cell_type": "code",
   "execution_count": null,
   "metadata": {},
   "outputs": [],
   "source": []
  },
  {
   "cell_type": "code",
   "execution_count": null,
   "metadata": {},
   "outputs": [],
   "source": []
  }
 ],
 "metadata": {
  "kernelspec": {
   "display_name": "Python 3",
   "language": "python",
   "name": "python3"
  },
  "language_info": {
   "codemirror_mode": {
    "name": "ipython",
    "version": 3
   },
   "file_extension": ".py",
   "mimetype": "text/x-python",
   "name": "python",
   "nbconvert_exporter": "python",
   "pygments_lexer": "ipython3",
   "version": "3.7.4"
  }
 },
 "nbformat": 4,
 "nbformat_minor": 2
}
