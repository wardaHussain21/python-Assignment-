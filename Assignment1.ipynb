{
 "cells": [
  {
   "cell_type": "code",
   "execution_count": 1,
   "metadata": {},
   "outputs": [
    {
     "name": "stdout",
     "output_type": "stream",
     "text": [
      "Twinkle, twinkle, little star,\n",
      "      How I wonder what you are!\n",
      "             Up above the world so high,\n",
      "             Like a diamond in the sky.\n",
      "Twinkle, twinkle, little star,\n",
      "      How I wonder what you are!\n"
     ]
    }
   ],
   "source": [
    "#Task 1 \"Specific format String\"\n",
    "print(\"Twinkle, twinkle, little star,\" + \"\\n      \" + \"How I wonder what you are!\"  + \"\\n             Up above the world so high,\" + \"\\n             Like a diamond in the sky.\" + \"\\nTwinkle, twinkle, little star,\" + \"\\n      \" + \"How I wonder what you are!\")\n",
    "\n"
   ]
  },
  {
   "cell_type": "code",
   "execution_count": 2,
   "metadata": {},
   "outputs": [
    {
     "name": "stdout",
     "output_type": "stream",
     "text": [
      "Python Version 3.7.4 (default, Aug  9 2019, 18:34:13) [MSC v.1915 64 bit (AMD64)]\n"
     ]
    }
   ],
   "source": [
    "#Task 2 \"Version of python\"\n",
    "import sys \n",
    "\n",
    "print(\"Python Version \" + sys.version)\n"
   ]
  },
  {
   "cell_type": "code",
   "execution_count": 4,
   "metadata": {},
   "outputs": [
    {
     "name": "stdout",
     "output_type": "stream",
     "text": [
      "Current Date Time \n",
      "2019-11-02 06:12:33.561376\n",
      "Current Date  \n",
      "2019-11-02\n",
      "Current Time  \n",
      "06:12:33.564375\n"
     ]
    }
   ],
   "source": [
    "#Task 3 \"Current date and time\"\n",
    "from datetime import datetime\n",
    "print(\"Current Date Time \")\n",
    "print(datetime.now())\n",
    "print(\"Current Date  \")\n",
    "print(datetime.date(datetime.now()))\n",
    "print(\"Current Time  \")\n",
    "print(datetime.time(datetime.now()))\n"
   ]
  },
  {
   "cell_type": "code",
   "execution_count": 10,
   "metadata": {},
   "outputs": [
    {
     "name": "stdout",
     "output_type": "stream",
     "text": [
      "Enter radius of circle 76\n",
      "Area of circle 18153.142857142855\n"
     ]
    }
   ],
   "source": [
    "# Task 4\n",
    "# Area of circle is = πr^2\n",
    "pi = 3.142\n",
    "radius = int(input(\"Enter radius of circle \"))\n",
    "Area = pi * (radius ** 2)\n",
    "print(\"Area of circle \" + str(Area))"
   ]
  },
  {
   "cell_type": "code",
   "execution_count": 6,
   "metadata": {},
   "outputs": [
    {
     "name": "stdout",
     "output_type": "stream",
     "text": [
      "Enter Your First Name warda\n",
      "Enter Your Last Name shadab\n",
      "The reversed string is : badahs adraw\n"
     ]
    }
   ],
   "source": [
    "def reverse(name): \n",
    "  str = \"\" \n",
    "  for i in name: \n",
    "    str = i + str\n",
    "  return str\n",
    "    \n",
    "   \n",
    "fname = input(\"Enter Your First Name \")\n",
    "lname = input(\"Enter Your Last Name \")\n",
    "name = fname +\" \"+ lname\n",
    "\n",
    "print (\"The reversed string is : \",end=\"\") \n",
    "print (reverse(name)) "
   ]
  },
  {
   "cell_type": "code",
   "execution_count": 13,
   "metadata": {},
   "outputs": [
    {
     "name": "stdout",
     "output_type": "stream",
     "text": [
      "Enter 1st Number 8.9087\n",
      "Enter 2nd Number 90.98\n",
      "Result 99.8887\n"
     ]
    }
   ],
   "source": [
    "#task 6 \"Addition of number\"\n",
    "x = float(input(\"Enter 1st Number \"))\n",
    "y = float(input(\"Enter 2nd Number \"))\n",
    "z = x + y\n",
    "print(\"Result \"+str(z))"
   ]
  },
  {
   "cell_type": "code",
   "execution_count": null,
   "metadata": {},
   "outputs": [],
   "source": [
    " "
   ]
  },
  {
   "cell_type": "code",
   "execution_count": null,
   "metadata": {},
   "outputs": [],
   "source": []
  }
 ],
 "metadata": {
  "kernelspec": {
   "display_name": "Python 3",
   "language": "python",
   "name": "python3"
  },
  "language_info": {
   "codemirror_mode": {
    "name": "ipython",
    "version": 3
   },
   "file_extension": ".py",
   "mimetype": "text/x-python",
   "name": "python",
   "nbconvert_exporter": "python",
   "pygments_lexer": "ipython3",
   "version": "3.7.4"
  }
 },
 "nbformat": 4,
 "nbformat_minor": 2
}
